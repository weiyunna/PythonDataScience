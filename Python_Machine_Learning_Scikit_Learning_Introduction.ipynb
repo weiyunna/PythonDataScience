{
  "nbformat": 4,
  "nbformat_minor": 0,
  "metadata": {
    "colab": {
      "name": "Python Machine Learning - Scikit-Learning-Introduction",
      "version": "0.3.2",
      "provenance": [],
      "collapsed_sections": [],
      "include_colab_link": true
    },
    "kernelspec": {
      "name": "python3",
      "display_name": "Python 3"
    }
  },
  "cells": [
    {
      "cell_type": "markdown",
      "metadata": {
        "id": "view-in-github",
        "colab_type": "text"
      },
      "source": [
        "<a href=\"https://colab.research.google.com/github/weiyunna/PythonDataScience/blob/master/Python_Machine_Learning_Scikit_Learning_Introduction.ipynb\" target=\"_parent\"><img src=\"https://colab.research.google.com/assets/colab-badge.svg\" alt=\"Open In Colab\"/></a>"
      ]
    },
    {
      "metadata": {
        "id": "Hnj1-NT_dxs0",
        "colab_type": "text"
      },
      "cell_type": "markdown",
      "source": [
        "# Machine Learning in Python"
      ]
    },
    {
      "metadata": {
        "id": "jPVUnHAKd5_r",
        "colab_type": "text"
      },
      "cell_type": "markdown",
      "source": [
        "* Simple and efficient tools for data mining and data analysis\n",
        "* Accessible to everybody, and reusable in various contexts\n",
        "* Built on NumPy, SciPy, and matplotlib\n",
        "* Open source, commercially usable - BSD license"
      ]
    },
    {
      "metadata": {
        "id": "W5ONH5MBfdZL",
        "colab_type": "text"
      },
      "cell_type": "markdown",
      "source": [
        "## Machine Learning : the Problem Setting"
      ]
    },
    {
      "metadata": {
        "id": "DnE6rymRfpLU",
        "colab_type": "text"
      },
      "cell_type": "markdown",
      "source": [
        "In general, a learning problem considers a set of n **samples** of data and then tries to predict properties of unknown data. If each sample is more than a single number and, for instance, a **multi-dimensional entry** (aka multivariate data), it is said to have several **attributes** or **features**."
      ]
    },
    {
      "metadata": {
        "id": "fEMrl34vhFXU",
        "colab_type": "text"
      },
      "cell_type": "markdown",
      "source": [
        "Learning problems fall into a few categories:\n",
        "\n",
        "* **supervised learning**, in which the data comes with additional attributes that we want to predict (Click here to go to the scikit-learn supervised learning page).This problem can be either:\n",
        "\n",
        "  * **classification**: samples belong to two or more classes and we want to learn from already labeled data how to predict the class of unlabeled data. An example of a classification problem would be handwritten digit recognition, in which the aim is to assign each input vector to one of a finite number of discrete categories. Another way to think of classification is as a discrete (as opposed to continuous) form of supervised learning where one has a limited number of categories and for each of the n samples provided, one is to try to label them with the correct category or class.\n",
        "  * **regression**: if the desired output consists of one or more continuous variables, then the task is called regression. An example of a regression problem would be the prediction of the length of a salmon as a function of its age and weight.\n",
        "\n",
        "* **unsupervised learning**, in which the training data consists of a set of input vectors x without any corresponding target values. The goal in such problems may be to discover groups of similar examples within the data, where it is called clustering, or to determine the distribution of data within the input space, known as density estimation, or to project the data from a high-dimensional space down to two or three dimensions for the purpose of visualization (Click here to go to the Scikit-Learn unsupervised learning page)."
      ]
    },
    {
      "metadata": {
        "id": "ylf0C58Lhnj8",
        "colab_type": "text"
      },
      "cell_type": "markdown",
      "source": [
        "## Training set and testing set\n",
        "\n",
        "Machine learning is about learning some properties of a data set and then testing those properties against another data set. A common practice in machine learning is to evaluate an algorithm by splitting a data set into two. We call one of those sets the **training set**, on which we learn some properties; we call the other set the **testing set**, on which we test the learned properties."
      ]
    },
    {
      "metadata": {
        "id": "_c4jb5dAh6WB",
        "colab_type": "text"
      },
      "cell_type": "markdown",
      "source": [
        "## Loading an example dataset"
      ]
    },
    {
      "metadata": {
        "id": "zGVrHepSiGDx",
        "colab_type": "text"
      },
      "cell_type": "markdown",
      "source": [
        "scikit-learn comes with a few standard datasets, for instance the **iris** and **digits** datasets for classification and the **boston house prices dataset** for regression.\n",
        "\n",
        "In the following, we start a Python interpreter from our shell and then load the iris and digits datasets. Our notational convention is that `$` denotes the shell prompt while `>>>` denotes the Python interpreter prompt:"
      ]
    },
    {
      "metadata": {
        "id": "ooKXNLUNd00q",
        "colab_type": "code",
        "colab": {}
      },
      "cell_type": "code",
      "source": [
        "from sklearn import datasets\n",
        "iris = datasets.load_iris()\n",
        "digits = datasets.load_digits()"
      ],
      "execution_count": 0,
      "outputs": []
    },
    {
      "metadata": {
        "id": "TZhfYb3CjEDO",
        "colab_type": "text"
      },
      "cell_type": "markdown",
      "source": [
        "A dataset is a ` dictionary-like` object that holds all the data and some metadata about the data. This data is stored in the **.data** member, which is a `n_samples, n_features` array. In the case of supervised problem, one or more response variables are stored in the **.target** member. More details on the different datasets can be found in the dedicated section.\n",
        "\n",
        "For instance, in the case of the digits dataset, **digits.data** gives access to the features that can be used to classify the digits samples:"
      ]
    },
    {
      "metadata": {
        "id": "srTyb3tmjZv4",
        "colab_type": "code",
        "colab": {
          "base_uri": "https://localhost:8080/",
          "height": 140
        },
        "outputId": "71d0708b-7ae1-4ebb-95d8-f90aadab180e"
      },
      "cell_type": "code",
      "source": [
        "print(digits.data) "
      ],
      "execution_count": 2,
      "outputs": [
        {
          "output_type": "stream",
          "text": [
            "[[ 0.  0.  5. ...  0.  0.  0.]\n",
            " [ 0.  0.  0. ... 10.  0.  0.]\n",
            " [ 0.  0.  0. ... 16.  9.  0.]\n",
            " ...\n",
            " [ 0.  0.  1. ...  6.  0.  0.]\n",
            " [ 0.  0.  2. ... 12.  0.  0.]\n",
            " [ 0.  0. 10. ... 12.  1.  0.]]\n"
          ],
          "name": "stdout"
        }
      ]
    },
    {
      "metadata": {
        "id": "7cwYMfe4jhS8",
        "colab_type": "text"
      },
      "cell_type": "markdown",
      "source": [
        "and **digits.target** gives the ground truth for the digit dataset, that is the number corresponding to each digit image that we are trying to learn:"
      ]
    },
    {
      "metadata": {
        "id": "Fb76wxgYjs36",
        "colab_type": "code",
        "colab": {
          "base_uri": "https://localhost:8080/",
          "height": 34
        },
        "outputId": "ccd1418c-37dd-41ba-bc92-a304a95c0bb2"
      },
      "cell_type": "code",
      "source": [
        "digits.target"
      ],
      "execution_count": 3,
      "outputs": [
        {
          "output_type": "execute_result",
          "data": {
            "text/plain": [
              "array([0, 1, 2, ..., 8, 9, 8])"
            ]
          },
          "metadata": {
            "tags": []
          },
          "execution_count": 3
        }
      ]
    },
    {
      "metadata": {
        "id": "P62Tb3AtkE2k",
        "colab_type": "text"
      },
      "cell_type": "markdown",
      "source": [
        "Shape of the data arrays\n",
        "\n",
        "**The data is always a 2D array**, shape (n_samples, n_features), although the original data may have had a different shape. In the case of the digits, each original sample is an image of shape (8, 8) and can be accessed using:"
      ]
    },
    {
      "metadata": {
        "id": "PlIxsBNAmYg2",
        "colab_type": "code",
        "colab": {
          "base_uri": "https://localhost:8080/",
          "height": 158
        },
        "outputId": "0d7b5192-6f62-432c-dfe2-2fe167268f1c"
      },
      "cell_type": "code",
      "source": [
        "digits.images[0]"
      ],
      "execution_count": 4,
      "outputs": [
        {
          "output_type": "execute_result",
          "data": {
            "text/plain": [
              "array([[ 0.,  0.,  5., 13.,  9.,  1.,  0.,  0.],\n",
              "       [ 0.,  0., 13., 15., 10., 15.,  5.,  0.],\n",
              "       [ 0.,  3., 15.,  2.,  0., 11.,  8.,  0.],\n",
              "       [ 0.,  4., 12.,  0.,  0.,  8.,  8.,  0.],\n",
              "       [ 0.,  5.,  8.,  0.,  0.,  9.,  8.,  0.],\n",
              "       [ 0.,  4., 11.,  0.,  1., 12.,  7.,  0.],\n",
              "       [ 0.,  2., 14.,  5., 10., 12.,  0.,  0.],\n",
              "       [ 0.,  0.,  6., 13., 10.,  0.,  0.,  0.]])"
            ]
          },
          "metadata": {
            "tags": []
          },
          "execution_count": 4
        }
      ]
    },
    {
      "metadata": {
        "id": "BYxiYWsSmgBh",
        "colab_type": "text"
      },
      "cell_type": "markdown",
      "source": [
        "The **simple example **on this dataset illustrates how starting from the original problem one can shape the data for consumption in scikit-learn."
      ]
    },
    {
      "metadata": {
        "id": "1TVAXvO9mnQI",
        "colab_type": "text"
      },
      "cell_type": "markdown",
      "source": [
        "## Learning and Predicting"
      ]
    },
    {
      "metadata": {
        "id": "1WX6PB0WpbdS",
        "colab_type": "text"
      },
      "cell_type": "markdown",
      "source": [
        "In the case of the digits dataset, the task is to predict, given an image, which digit it represents. We are given samples of each of the 10 possible classes (the digits zero through nine) on which we fit an **estimator** to be able to predict the classes to which unseen samples belong."
      ]
    },
    {
      "metadata": {
        "id": "h1XhvjjJps5h",
        "colab_type": "text"
      },
      "cell_type": "markdown",
      "source": [
        "In scikit-learn, an estimator for classification is **a Python object** that implements the methods** fit(X, y)** and **predict(T)**.\n",
        "\n",
        "An example of an estimator is the class sklearn.svm.SVC, which implements support vector classification. The estimator’s constructor takes as arguments** the model’s parameters**.\n",
        "\n",
        "For now, we will consider the estimator as a black box:"
      ]
    },
    {
      "metadata": {
        "id": "MXN6_xFamavT",
        "colab_type": "code",
        "colab": {}
      },
      "cell_type": "code",
      "source": [
        "from sklearn import svm\n",
        "clf = svm.SVC(gamma=0.001, C=100.)"
      ],
      "execution_count": 0,
      "outputs": []
    },
    {
      "metadata": {
        "id": "9ylGf7oiqEva",
        "colab_type": "text"
      },
      "cell_type": "markdown",
      "source": [
        "### Choosing the parameters of the model"
      ]
    },
    {
      "metadata": {
        "id": "q_yvXmpPqK-7",
        "colab_type": "text"
      },
      "cell_type": "markdown",
      "source": [
        "In this example, we set the value of gamma manually. To find good values for these parameters, we can use tools such as `grid search` and `cross validation`."
      ]
    },
    {
      "metadata": {
        "id": "t3rNneuL_irj",
        "colab_type": "text"
      },
      "cell_type": "markdown",
      "source": [
        "The `clf (for classifier)` estimator instance is first fitted to the model; that is, it must learn from the model. This is done by passing our training set to the `fit` method. For the training set, we’ll use all the images from our dataset, except for the last image, which we’ll reserve for our `predicting`. We select the training set with the [:-1] Python syntax, which produces a new array that contains all but the last item from digits.data:"
      ]
    },
    {
      "metadata": {
        "id": "zr8OrrwLqH-6",
        "colab_type": "code",
        "colab": {
          "base_uri": "https://localhost:8080/",
          "height": 87
        },
        "outputId": "0a00b695-51a0-43b4-ed6a-7a6b7f318061"
      },
      "cell_type": "code",
      "source": [
        "clf.fit(digits.data[:-1], digits.target[:-1]) "
      ],
      "execution_count": 6,
      "outputs": [
        {
          "output_type": "execute_result",
          "data": {
            "text/plain": [
              "SVC(C=100.0, cache_size=200, class_weight=None, coef0=0.0,\n",
              "  decision_function_shape='ovr', degree=3, gamma=0.001, kernel='rbf',\n",
              "  max_iter=-1, probability=False, random_state=None, shrinking=True,\n",
              "  tol=0.001, verbose=False)"
            ]
          },
          "metadata": {
            "tags": []
          },
          "execution_count": 6
        }
      ]
    },
    {
      "metadata": {
        "id": "Gr9e9BuQAHxz",
        "colab_type": "text"
      },
      "cell_type": "markdown",
      "source": [
        "Now you can predict new values. In this case, you’ll predict using the last image from digits.data. By predicting, you’ll determine the image from the training set that best matches the last image."
      ]
    },
    {
      "metadata": {
        "id": "hQY4QBxW_2NF",
        "colab_type": "code",
        "colab": {
          "base_uri": "https://localhost:8080/",
          "height": 34
        },
        "outputId": "37de1344-fcac-4c50-a71a-6d34ea3a8f11"
      },
      "cell_type": "code",
      "source": [
        "clf.predict(digits.data[-1:])"
      ],
      "execution_count": 7,
      "outputs": [
        {
          "output_type": "execute_result",
          "data": {
            "text/plain": [
              "array([8])"
            ]
          },
          "metadata": {
            "tags": []
          },
          "execution_count": 7
        }
      ]
    },
    {
      "metadata": {
        "id": "IuMRgqdoBL_S",
        "colab_type": "text"
      },
      "cell_type": "markdown",
      "source": [
        "## Model Persistence"
      ]
    },
    {
      "metadata": {
        "id": "r7qnW9B8BVNa",
        "colab_type": "text"
      },
      "cell_type": "markdown",
      "source": [
        "It is possible to save a model in scikit-learn by using Python’s built-in persistence model, **pickle**:"
      ]
    },
    {
      "metadata": {
        "id": "Pg3s4g1iAST1",
        "colab_type": "code",
        "colab": {
          "base_uri": "https://localhost:8080/",
          "height": 87
        },
        "outputId": "bf846213-1be2-427c-b147-a70ae250a4e2"
      },
      "cell_type": "code",
      "source": [
        "from sklearn import svm\n",
        "from sklearn import datasets\n",
        "clf = svm.SVC(gamma='scale')\n",
        "iris = datasets.load_iris()\n",
        "X, y = iris.data, iris.target\n",
        "clf.fit(X, y)  "
      ],
      "execution_count": 8,
      "outputs": [
        {
          "output_type": "execute_result",
          "data": {
            "text/plain": [
              "SVC(C=1.0, cache_size=200, class_weight=None, coef0=0.0,\n",
              "  decision_function_shape='ovr', degree=3, gamma='scale', kernel='rbf',\n",
              "  max_iter=-1, probability=False, random_state=None, shrinking=True,\n",
              "  tol=0.001, verbose=False)"
            ]
          },
          "metadata": {
            "tags": []
          },
          "execution_count": 8
        }
      ]
    },
    {
      "metadata": {
        "id": "IIhDBjCvBq7i",
        "colab_type": "code",
        "colab": {
          "base_uri": "https://localhost:8080/",
          "height": 34
        },
        "outputId": "1ccef372-c93a-470e-bfbb-da2220d663fa"
      },
      "cell_type": "code",
      "source": [
        "import pickle\n",
        "s = pickle.dumps(clf)\n",
        "clf2 = pickle.loads(s)\n",
        "clf2.predict(X[0:1])\n",
        "y[0]"
      ],
      "execution_count": 10,
      "outputs": [
        {
          "output_type": "execute_result",
          "data": {
            "text/plain": [
              "0"
            ]
          },
          "metadata": {
            "tags": []
          },
          "execution_count": 10
        }
      ]
    },
    {
      "metadata": {
        "id": "cYqZkLRTCQbp",
        "colab_type": "text"
      },
      "cell_type": "markdown",
      "source": [
        "In the specific case of scikit-learn, it may be more interesting to use joblib’s replacement for pickle (` **joblib.dump & joblib.load** `), which is more efficient on big data but it can only pickle to the disk and not to a string:"
      ]
    },
    {
      "metadata": {
        "id": "PLiHi2-ICZKb",
        "colab_type": "code",
        "colab": {}
      },
      "cell_type": "code",
      "source": [
        "from joblib import dump, load"
      ],
      "execution_count": 0,
      "outputs": []
    },
    {
      "metadata": {
        "id": "3lSQZopcCitk",
        "colab_type": "code",
        "colab": {
          "base_uri": "https://localhost:8080/",
          "height": 34
        },
        "outputId": "873085c2-5c36-45bc-baf0-6af6b89daa3d"
      },
      "cell_type": "code",
      "source": [
        "dump(clf, 'filename.joblib')"
      ],
      "execution_count": 12,
      "outputs": [
        {
          "output_type": "execute_result",
          "data": {
            "text/plain": [
              "['filename.joblib']"
            ]
          },
          "metadata": {
            "tags": []
          },
          "execution_count": 12
        }
      ]
    },
    {
      "metadata": {
        "id": "bfvHBithClGx",
        "colab_type": "code",
        "colab": {}
      },
      "cell_type": "code",
      "source": [
        "# Later, you can reload the pickled model (possibly in another Python process) with:\n",
        "clf = load('filename.joblib') "
      ],
      "execution_count": 0,
      "outputs": []
    },
    {
      "metadata": {
        "id": "AiRsQKz1Czeh",
        "colab_type": "text"
      },
      "cell_type": "markdown",
      "source": [
        "**joblib.dump** and **joblib.load** functions also accept file-like object instead of filenames. More information on data persistence with Joblib is available here."
      ]
    },
    {
      "metadata": {
        "id": "vNqlzBgHDa7R",
        "colab_type": "text"
      },
      "cell_type": "markdown",
      "source": [
        "## Conventions"
      ]
    },
    {
      "metadata": {
        "id": "AiHcNOyTDhfx",
        "colab_type": "text"
      },
      "cell_type": "markdown",
      "source": [
        "scikit-learn estimators follow certain rules to make their behavior more predictive."
      ]
    },
    {
      "metadata": {
        "id": "yb5hAUAvDkbi",
        "colab_type": "text"
      },
      "cell_type": "markdown",
      "source": [
        "### Type Casting\n",
        "\n",
        "Unless otherwise specified, input will be cast to float64:"
      ]
    },
    {
      "metadata": {
        "id": "HtOY48-QC15F",
        "colab_type": "code",
        "colab": {
          "base_uri": "https://localhost:8080/",
          "height": 34
        },
        "outputId": "15b05804-9af2-48fa-b82f-d60a040d5903"
      },
      "cell_type": "code",
      "source": [
        "import numpy as np\n",
        "from sklearn import random_projection\n",
        "\n",
        "rng = np.random.RandomState(0)\n",
        "X = rng.rand(10, 2000)\n",
        "X = np.array(X, dtype='float32')\n",
        "X.dtype\n",
        "\n",
        "transformer = random_projection.GaussianRandomProjection()\n",
        "X_new = transformer.fit_transform(X)\n",
        "X_new.dtype"
      ],
      "execution_count": 14,
      "outputs": [
        {
          "output_type": "execute_result",
          "data": {
            "text/plain": [
              "dtype('float64')"
            ]
          },
          "metadata": {
            "tags": []
          },
          "execution_count": 14
        }
      ]
    },
    {
      "metadata": {
        "id": "NRxp1ppaEQR5",
        "colab_type": "text"
      },
      "cell_type": "markdown",
      "source": [
        "Regression targets are cast to float64 and classification targets are maintained:"
      ]
    },
    {
      "metadata": {
        "id": "a3i9ygICESoL",
        "colab_type": "code",
        "colab": {
          "base_uri": "https://localhost:8080/",
          "height": 34
        },
        "outputId": "f5a0dea6-9a6e-43f3-9d4d-bc560b2bce8b"
      },
      "cell_type": "code",
      "source": [
        "from sklearn import datasets\n",
        "from sklearn.svm import SVC\n",
        "iris = datasets.load_iris()\n",
        "clf = SVC(gamma='scale')\n",
        "clf.fit(iris.data, iris.target)  \n",
        "\n",
        "list(clf.predict(iris.data[:3]))\n",
        " "
      ],
      "execution_count": 15,
      "outputs": [
        {
          "output_type": "execute_result",
          "data": {
            "text/plain": [
              "[0, 0, 0]"
            ]
          },
          "metadata": {
            "tags": []
          },
          "execution_count": 15
        }
      ]
    },
    {
      "metadata": {
        "id": "ipHcMzCFYIQZ",
        "colab_type": "code",
        "colab": {
          "base_uri": "https://localhost:8080/",
          "height": 34
        },
        "outputId": "d870b23d-e0ff-4213-d78a-cdd4935eed85"
      },
      "cell_type": "code",
      "source": [
        "clf.fit(iris.data, iris.target_names[iris.target])  \n",
        "list(clf.predict(iris.data[:3])) "
      ],
      "execution_count": 16,
      "outputs": [
        {
          "output_type": "execute_result",
          "data": {
            "text/plain": [
              "['setosa', 'setosa', 'setosa']"
            ]
          },
          "metadata": {
            "tags": []
          },
          "execution_count": 16
        }
      ]
    },
    {
      "metadata": {
        "id": "eJAk6-8PYVVi",
        "colab_type": "text"
      },
      "cell_type": "markdown",
      "source": [
        "Here, the first predict() returns `an integer array`, since iris.target (an integer array) was used in fit. The second predict() returns` a string array`, since iris.target_names was for fitting."
      ]
    },
    {
      "metadata": {
        "id": "FZBdSyoUYhco",
        "colab_type": "text"
      },
      "cell_type": "markdown",
      "source": [
        "### Refitting and updating parameters"
      ]
    },
    {
      "metadata": {
        "id": "GTb73xtaY2fw",
        "colab_type": "text"
      },
      "cell_type": "markdown",
      "source": [
        "Hyper-parameters of an estimator can be updated after it has been constructed via the `set_params()` method. Calling fit() more than once will `overwrite` what was learned by any previous fit():"
      ]
    },
    {
      "metadata": {
        "id": "u2bqLQ3bYgGF",
        "colab_type": "code",
        "colab": {
          "base_uri": "https://localhost:8080/",
          "height": 34
        },
        "outputId": "5bdcfd87-2dfa-4267-e5a1-37c3138a50b9"
      },
      "cell_type": "code",
      "source": [
        "import numpy as np\n",
        "from sklearn.svm import SVC\n",
        "\n",
        "rng = np.random.RandomState(0)\n",
        "X = rng.rand(100, 10)\n",
        "y = rng.binomial(1, 0.5, 100)\n",
        "X_test = rng.rand(5, 10)\n",
        "\n",
        "clf = SVC()\n",
        "clf.set_params(kernel='linear').fit(X, y)  \n",
        "\n",
        "clf.predict(X_test)"
      ],
      "execution_count": 17,
      "outputs": [
        {
          "output_type": "execute_result",
          "data": {
            "text/plain": [
              "array([1, 0, 1, 1, 0])"
            ]
          },
          "metadata": {
            "tags": []
          },
          "execution_count": 17
        }
      ]
    },
    {
      "metadata": {
        "id": "CyR__3FxZgMQ",
        "colab_type": "code",
        "colab": {
          "base_uri": "https://localhost:8080/",
          "height": 34
        },
        "outputId": "5d06f24a-fcd2-45bb-9ebc-e11d11a7e55b"
      },
      "cell_type": "code",
      "source": [
        "clf.set_params(kernel='rbf', gamma='scale').fit(X, y)  \n",
        "clf.predict(X_test)"
      ],
      "execution_count": 18,
      "outputs": [
        {
          "output_type": "execute_result",
          "data": {
            "text/plain": [
              "array([0, 0, 0, 1, 0])"
            ]
          },
          "metadata": {
            "tags": []
          },
          "execution_count": 18
        }
      ]
    },
    {
      "metadata": {
        "id": "LUC9GqpfZ1c5",
        "colab_type": "text"
      },
      "cell_type": "markdown",
      "source": [
        "Here, the default kernel `rbf` is first changed to `linear` via `SVC.set_params()` after the estimator has been constructed, and changed back to rbf to refit the estimator and to make a second prediction."
      ]
    },
    {
      "metadata": {
        "id": "geeYNDDyaIr5",
        "colab_type": "text"
      },
      "cell_type": "markdown",
      "source": [
        "### Multiclass vs. multilabel fitting"
      ]
    },
    {
      "metadata": {
        "id": "PFNIhVwfaYcA",
        "colab_type": "text"
      },
      "cell_type": "markdown",
      "source": [
        "When using `multiclass` classifiers, the learning and prediction task that is performed is dependent on the format of the target data fit upon:"
      ]
    },
    {
      "metadata": {
        "id": "3LtQ085RaD74",
        "colab_type": "code",
        "colab": {
          "base_uri": "https://localhost:8080/",
          "height": 34
        },
        "outputId": "252cb9bb-e5ff-49a6-f3bd-215ac5b006eb"
      },
      "cell_type": "code",
      "source": [
        "from sklearn.svm import SVC\n",
        "from sklearn.multiclass import OneVsRestClassifier\n",
        "from sklearn.preprocessing import LabelBinarizer\n",
        "\n",
        "X = [[1, 2], [2, 4], [4, 5], [3, 2], [3, 1]]\n",
        "y = [0, 0, 1, 1, 2]\n",
        "\n",
        "classif = OneVsRestClassifier(estimator=SVC(gamma='scale',\n",
        "                                           random_state=0))\n",
        "classif.fit(X, y).predict(X)\n"
      ],
      "execution_count": 20,
      "outputs": [
        {
          "output_type": "execute_result",
          "data": {
            "text/plain": [
              "array([0, 0, 1, 1, 2])"
            ]
          },
          "metadata": {
            "tags": []
          },
          "execution_count": 20
        }
      ]
    },
    {
      "metadata": {
        "id": "3sah_KusbGw_",
        "colab_type": "text"
      },
      "cell_type": "markdown",
      "source": [
        "In the above case, the classifier is fit on a 1d array of multiclass labels and the predict() method therefore provides corresponding multiclass predictions. It is also possible to fit upon a `2d array of binary label indicators:`"
      ]
    },
    {
      "metadata": {
        "id": "fdbWHDCgbLbM",
        "colab_type": "code",
        "colab": {
          "base_uri": "https://localhost:8080/",
          "height": 105
        },
        "outputId": "f8cc5d33-98ab-4211-a4fa-5d10b8a3d018"
      },
      "cell_type": "code",
      "source": [
        "y = LabelBinarizer().fit_transform(y)\n",
        "classif.fit(X, y).predict(X)"
      ],
      "execution_count": 21,
      "outputs": [
        {
          "output_type": "execute_result",
          "data": {
            "text/plain": [
              "array([[1, 0, 0],\n",
              "       [1, 0, 0],\n",
              "       [0, 1, 0],\n",
              "       [0, 0, 0],\n",
              "       [0, 0, 0]])"
            ]
          },
          "metadata": {
            "tags": []
          },
          "execution_count": 21
        }
      ]
    },
    {
      "metadata": {
        "id": "dyCcRNXMbZNP",
        "colab_type": "text"
      },
      "cell_type": "markdown",
      "source": [
        "Here, the classifier is fit() on a 2d binary label representation of y, using the LabelBinarizer. In this case predict() returns a 2d array representing the corresponding **multilabel predictions.**\n",
        "\n",
        "Note that the fourth and fifth instances returned all zeroes, indicating that they matched none of the three labels fit upon. With multilabel outputs, it is similarly possible for an instance to be assigned multiple labels:"
      ]
    },
    {
      "metadata": {
        "id": "-8pKh_PgbPR7",
        "colab_type": "code",
        "colab": {
          "base_uri": "https://localhost:8080/",
          "height": 105
        },
        "outputId": "50509a67-5d10-466c-db18-f0a037fa0098"
      },
      "cell_type": "code",
      "source": [
        "from sklearn.preprocessing import MultiLabelBinarizer\n",
        "y = [[0, 1], [0, 2], [1, 3], [0, 2, 3], [2, 4]]\n",
        "y = MultiLabelBinarizer().fit_transform(y)\n",
        "classif.fit(X, y).predict(X)"
      ],
      "execution_count": 22,
      "outputs": [
        {
          "output_type": "execute_result",
          "data": {
            "text/plain": [
              "array([[1, 1, 0, 0, 0],\n",
              "       [1, 0, 1, 0, 0],\n",
              "       [0, 1, 0, 1, 0],\n",
              "       [1, 0, 1, 0, 0],\n",
              "       [1, 0, 1, 0, 0]])"
            ]
          },
          "metadata": {
            "tags": []
          },
          "execution_count": 22
        }
      ]
    },
    {
      "metadata": {
        "id": "uXyANSlKbwbw",
        "colab_type": "text"
      },
      "cell_type": "markdown",
      "source": [
        "In this case, the classifier is fit upon instances each assigned multiple labels. The **MultiLabelBinarizer** is used to binarize the 2d array of multilabels to fit upon. As a result, predict() returns a 2d array with multiple predicted labels for each instance."
      ]
    },
    {
      "metadata": {
        "id": "HoN50d7Lb5vk",
        "colab_type": "code",
        "colab": {}
      },
      "cell_type": "code",
      "source": [
        ""
      ],
      "execution_count": 0,
      "outputs": []
    }
  ]
}