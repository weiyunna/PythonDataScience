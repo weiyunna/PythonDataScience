{
  "nbformat": 4,
  "nbformat_minor": 0,
  "metadata": {
    "colab": {
      "name": "A tutorial on statistical-learning for scientific data processing",
      "version": "0.3.2",
      "provenance": [],
      "collapsed_sections": [],
      "toc_visible": true,
      "include_colab_link": true
    },
    "kernelspec": {
      "name": "python3",
      "display_name": "Python 3"
    }
  },
  "cells": [
    {
      "cell_type": "markdown",
      "metadata": {
        "id": "view-in-github",
        "colab_type": "text"
      },
      "source": [
        "<a href=\"https://colab.research.google.com/github/weiyunna/PythonDataScience/blob/master/A_tutorial_on_statistical_learning_for_scientific_data_processing.ipynb\" target=\"_parent\"><img src=\"https://colab.research.google.com/assets/colab-badge.svg\" alt=\"Open In Colab\"/></a>"
      ]
    },
    {
      "metadata": {
        "id": "AOYvC9G6dUk_",
        "colab_type": "text"
      },
      "cell_type": "markdown",
      "source": [
        "# A tutorial on statistical-learning for scientific data processing"
      ]
    },
    {
      "metadata": {
        "id": "RCHnt4CxaBFe",
        "colab_type": "text"
      },
      "cell_type": "markdown",
      "source": [
        "Statistical learning\n",
        "\n",
        "Machine learning is a technique with a growing importance, as the size of the datasets experimental sciences are facing is rapidly growing. Problems it tackles range from building a prediction function linking different observations, to classifying observations, or learning the structure in an unlabeled dataset.\n",
        "\n",
        "This tutorial will explore statistical learning, the use of machine learning techniques with the goal of **statistical inference**: **drawing conclusions on the data at hand.**\n",
        "\n",
        "Scikit-learn is a Python module integrating classic machine learning algorithms in the tightly-knit world of **scientific Python packages (NumPy, SciPy, matplotlib).**"
      ]
    },
    {
      "metadata": {
        "id": "5NB469tCapPJ",
        "colab_type": "text"
      },
      "cell_type": "markdown",
      "source": [
        "## Statistical learning: the setting and the estimator object in scikit-learn"
      ]
    },
    {
      "metadata": {
        "id": "IY87Yh2Ba4Qa",
        "colab_type": "text"
      },
      "cell_type": "markdown",
      "source": [
        "### Datasets"
      ]
    },
    {
      "metadata": {
        "id": "F2ykRaVBbD7p",
        "colab_type": "text"
      },
      "cell_type": "markdown",
      "source": [
        "Scikit-learn deals with learning information from one or more datasets that are represented as **2D arrays**. They can be understood as a list of multi-dimensional observations. We say that the first axis of these arrays is the **samples** axis, while the second is the **features** axis."
      ]
    },
    {
      "metadata": {
        "id": "weHp8UWzdW6T",
        "colab_type": "code",
        "outputId": "bc67277c-89c0-4fbc-f021-2ae3e4802c9d",
        "colab": {
          "base_uri": "https://localhost:8080/",
          "height": 34
        }
      },
      "cell_type": "code",
      "source": [
        "# A simple example shipped with scikit-learn: iris dataset\n",
        "from sklearn import datasets\n",
        "iris = datasets.load_iris()\n",
        "data = iris.data\n",
        "data.shape\n",
        "# It is made of 150 observations of irises, \n",
        "# each described by 4 features: their sepal and petal length and width, as detailed in iris.DESCR."
      ],
      "execution_count": 0,
      "outputs": [
        {
          "output_type": "execute_result",
          "data": {
            "text/plain": [
              "(150, 4)"
            ]
          },
          "metadata": {
            "tags": []
          },
          "execution_count": 1
        }
      ]
    },
    {
      "metadata": {
        "id": "sS8u4Hm9bpUA",
        "colab_type": "text"
      },
      "cell_type": "markdown",
      "source": [
        "When the data is not initially in the (n_samples, n_features) shape, it needs to be **preprocessed** in order to be used by scikit-learn."
      ]
    },
    {
      "metadata": {
        "id": "ARUNYKaTbWwE",
        "colab_type": "code",
        "outputId": "da034ecb-a223-409a-91c3-bd33f145ff81",
        "colab": {
          "base_uri": "https://localhost:8080/",
          "height": 34
        }
      },
      "cell_type": "code",
      "source": [
        "#An example of reshaping data would be the digits dataset\n",
        "#The digits dataset is made of 1797 8x8 images of hand-written digits\n",
        "digits = datasets.load_digits()\n",
        "digits.images.shape"
      ],
      "execution_count": 0,
      "outputs": [
        {
          "output_type": "execute_result",
          "data": {
            "text/plain": [
              "(1797, 8, 8)"
            ]
          },
          "metadata": {
            "tags": []
          },
          "execution_count": 2
        }
      ]
    },
    {
      "metadata": {
        "id": "pQ8UGKhGcGTW",
        "colab_type": "code",
        "outputId": "74e4ae0d-316e-409f-c415-5ce6e1a7f07d",
        "colab": {
          "base_uri": "https://localhost:8080/",
          "height": 365
        }
      },
      "cell_type": "code",
      "source": [
        "import matplotlib.pyplot as plt \n",
        "plt.imshow(digits.images[-1], cmap=plt.cm.gray_r)"
      ],
      "execution_count": 0,
      "outputs": [
        {
          "output_type": "execute_result",
          "data": {
            "text/plain": [
              "<matplotlib.image.AxesImage at 0x7f18ca3747b8>"
            ]
          },
          "metadata": {
            "tags": []
          },
          "execution_count": 3
        },
        {
          "output_type": "display_data",
          "data": {
            "image/png": "[encoded data removed]",
            "text/plain": [
              "<Figure size 576x396 with 1 Axes>"
            ]
          },
          "metadata": {
            "tags": []
          }
        }
      ]
    },
    {
      "metadata": {
        "id": "hZCivsAdcX7I",
        "colab_type": "text"
      },
      "cell_type": "markdown",
      "source": [
        "To use this dataset with scikit-learn, we transform each 8x8 image into a feature vector of length 64"
      ]
    },
    {
      "metadata": {
        "id": "Zp8rtjE_ccp0",
        "colab_type": "code",
        "colab": {}
      },
      "cell_type": "code",
      "source": [
        "data = digits.images.reshape((digits.images.shape[0], -1))"
      ],
      "execution_count": 0,
      "outputs": []
    },
    {
      "metadata": {
        "id": "hB6OqoDecna1",
        "colab_type": "text"
      },
      "cell_type": "markdown",
      "source": [
        "## Estimator Objects"
      ]
    },
    {
      "metadata": {
        "id": "P4Zub5hbdPow",
        "colab_type": "text"
      },
      "cell_type": "markdown",
      "source": [
        "* **Fitting data**: the main API implemented by scikit-learn is that of the estimator. An estimator is **any object that learns from data**; it may be a classification, regression or clustering algorithm or a transformer that extracts/filters useful features from raw data.\n",
        "\n",
        "All estimator objects expose a `fit` method that takes a dataset (usually a 2-d array):"
      ]
    },
    {
      "metadata": {
        "id": "hRwtEkNIck2p",
        "colab_type": "code",
        "colab": {}
      },
      "cell_type": "code",
      "source": [
        "estimator.fit(data)"
      ],
      "execution_count": 0,
      "outputs": []
    },
    {
      "metadata": {
        "id": "xVf5vgoLd2Xx",
        "colab_type": "text"
      },
      "cell_type": "markdown",
      "source": [
        "* **Estimator parameters**: All the parameters of an estimator can be set when it is instantiated or by modifying the corresponding attribute:"
      ]
    },
    {
      "metadata": {
        "id": "c3kk6D2Wd8aW",
        "colab_type": "code",
        "colab": {}
      },
      "cell_type": "code",
      "source": [
        "estimator = Estimator(param1=1, param2=2)\n",
        "estimator.param1"
      ],
      "execution_count": 0,
      "outputs": []
    },
    {
      "metadata": {
        "id": "3Vs3_qmSeFqO",
        "colab_type": "text"
      },
      "cell_type": "markdown",
      "source": [
        "* **Estimated parameters**: When data is fitted with an estimator, parameters are estimated from the data at hand. All the estimated parameters are attributes of the estimator object ending by an underscore:"
      ]
    },
    {
      "metadata": {
        "id": "gRWktAY-eSW1",
        "colab_type": "code",
        "colab": {}
      },
      "cell_type": "code",
      "source": [
        "estimator.estimated_param_"
      ],
      "execution_count": 0,
      "outputs": []
    },
    {
      "metadata": {
        "id": "qUjVrr3berZ-",
        "colab_type": "text"
      },
      "cell_type": "markdown",
      "source": [
        "## Supervised learning: predicting an output variable from high-dimensional observations"
      ]
    },
    {
      "metadata": {
        "id": "80rQosqse4Il",
        "colab_type": "text"
      },
      "cell_type": "markdown",
      "source": [
        "**The problem solved in supervised learning**\n",
        "\n",
        "Supervised learning consists in learning the link between two datasets: the observed data X and an external variable y that we are trying to predict, usually called “target” or “labels”. Most often, y is a 1D array of length n_samples.\n",
        "\n",
        "All supervised estimators in scikit-learn implement a fit(X, y) method to fit the model and a predict(X) method that, given unlabeled observations X, returns the predicted labels y."
      ]
    },
    {
      "metadata": {
        "id": "huPTy2vZfMGy",
        "colab_type": "text"
      },
      "cell_type": "markdown",
      "source": [
        "**Vocabulary: classification and regression**\n",
        "\n",
        "If the prediction task is to classify the observations in a set of finite labels, in other words to “name” the objects observed, the task is said to be a **classification** task. On the other hand, if the goal is to predict a continuous target variable, it is said to be a **regression** task.\n",
        "\n",
        "When doing classification in scikit-learn, y is a vector of integers or strings.\n",
        "\n",
        "Note: See the Introduction to machine learning with scikit-learn Tutorial for a quick run-through on the basic machine learning vocabulary used within scikit-learn."
      ]
    },
    {
      "metadata": {
        "id": "3B3LjwJaffEK",
        "colab_type": "text"
      },
      "cell_type": "markdown",
      "source": [
        "### Nearest neighbor and the curse of dimensionality"
      ]
    },
    {
      "metadata": {
        "id": "XS5unS2VpQzI",
        "colab_type": "text"
      },
      "cell_type": "markdown",
      "source": [
        "####Classifying irises: "
      ]
    },
    {
      "metadata": {
        "id": "Wm7RHho5pab-",
        "colab_type": "text"
      },
      "cell_type": "markdown",
      "source": [
        "The iris dataset is a classification task consisting in identifying 3 different types of irises (Setosa, Versicolour, and Virginica) from their petal and sepal length and width:"
      ]
    },
    {
      "metadata": {
        "id": "tz2wRhZjetYX",
        "colab_type": "code",
        "colab": {
          "base_uri": "https://localhost:8080/",
          "height": 34
        },
        "outputId": "f834a5a7-2be2-4426-fb5f-0068beb2c30e"
      },
      "cell_type": "code",
      "source": [
        "import numpy as np\n",
        "from sklearn import datasets\n",
        "iris = datasets.load_iris()\n",
        "iris_X = iris.data\n",
        "iris_y = iris.target\n",
        "np.unique(iris_y)\n"
      ],
      "execution_count": 1,
      "outputs": [
        {
          "output_type": "execute_result",
          "data": {
            "text/plain": [
              "array([0, 1, 2])"
            ]
          },
          "metadata": {
            "tags": []
          },
          "execution_count": 1
        }
      ]
    }
  ]
}