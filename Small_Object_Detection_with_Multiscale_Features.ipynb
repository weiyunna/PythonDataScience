{
  "nbformat": 4,
  "nbformat_minor": 0,
  "metadata": {
    "colab": {
      "name": "Small Object Detection with Multiscale Features",
      "version": "0.3.2",
      "provenance": [],
      "collapsed_sections": [],
      "include_colab_link": true
    },
    "kernelspec": {
      "name": "python3",
      "display_name": "Python 3"
    }
  },
  "cells": [
    {
      "cell_type": "markdown",
      "metadata": {
        "id": "view-in-github",
        "colab_type": "text"
      },
      "source": [
        "<a href=\"https://colab.research.google.com/github/weiyunna/PythonDataScience/blob/master/Small_Object_Detection_with_Multiscale_Features.ipynb\" target=\"_parent\"><img src=\"https://colab.research.google.com/assets/colab-badge.svg\" alt=\"Open In Colab\"/></a>"
      ]
    },
    {
      "metadata": {
        "id": "SrqRui597Oj9",
        "colab_type": "text"
      },
      "cell_type": "markdown",
      "source": [
        "# Small Object Detection with Multiscale Features"
      ]
    },
    {
      "metadata": {
        "id": "tJDRsZtu7Z20",
        "colab_type": "text"
      },
      "cell_type": "markdown",
      "source": [
        "The existing object detection algorithm based on the deep convolution neural network needs to carry out** multilevel convolution and pooling operations** to the entire image in order to extract a deep semantic features of the image."
      ]
    },
    {
      "metadata": {
        "id": "jaI9uraF7mdU",
        "colab_type": "text"
      },
      "cell_type": "markdown",
      "source": [
        "The detection models can get better results for big object. However, those models fail to detect small objects that have low resolution and are greatly influenced by noise because **the features after repeated convolution operations of existing models do not fully represent the essential characteristics of the small objects**."
      ]
    },
    {
      "metadata": {
        "id": "Gu_BJ8YJ74vy",
        "colab_type": "text"
      },
      "cell_type": "markdown",
      "source": [
        "In this paper, we can achieve good detection accuracy by **extracting the features at different convolution levels of the object and using the multiscale features to detect small objects.**"
      ]
    },
    {
      "metadata": {
        "id": "GXgXTWob8Nhv",
        "colab_type": "text"
      },
      "cell_type": "markdown",
      "source": [
        "For our detection model, we extract the features of the image from their **third, fourth, and 5th convolutions**, respectively, and then these three scales features are **concatenated into a one-dimensional vector.** The vector is used to classify objects by classifiers and **locate position information of objects** by regression of bounding box. "
      ]
    },
    {
      "metadata": {
        "id": "SXXby3yc8i26",
        "colab_type": "text"
      },
      "cell_type": "markdown",
      "source": [
        "Through testing, the detection accuracy of our model for small objects is 11% higher than the state-of-the-art models. In addition, **we also used the model to detect aircraft in remote sensing images and achieved good results**"
      ]
    },
    {
      "metadata": {
        "id": "qqceRxde9OXA",
        "colab_type": "text"
      },
      "cell_type": "markdown",
      "source": [
        "Object detection, which not only requires **accurate classification** of objects in images but also needs **accurate location of objects** is an automatic image detection process based on statistical and geometric features. \n",
        "\n",
        "The accuracy of object classification and object location is important indicators to measure the effectiveness of model detection. Object detection is widely used in intelligent monitoring, military object detection, UAV navigation, unmanned vehicle, and intelligent transportation. \n",
        "\n",
        "However, because of the diversity of the detected objects, the current model fails to detect objects. **The changeable light and the complex background ** increase the difficulty of the object detection especially for the objects that are in the complex environment."
      ]
    },
    {
      "metadata": {
        "id": "xq1x1jxA-ixK",
        "colab_type": "text"
      },
      "cell_type": "markdown",
      "source": [
        "The traditional method of image classification and location by multiscale pyramid method needs to extract the statistical features of the image in multiscale and then classify the image by a classifier [1–3]. \n",
        "\n",
        "Because **different types of images are characterized by different features**,** it is difficult to use one or more features to represent objects, which do not achieve a robust classification model.** Those models failed to detect the objects especially that there are more detected objects in an image."
      ]
    },
    {
      "metadata": {
        "id": "oUswdgrf-3Zx",
        "colab_type": "text"
      },
      "cell_type": "markdown",
      "source": [
        "Since deep learning has been a great success in the field of object detection, it has become the mainstream method for object detection. These methods (e.g.,** RCNN [4], Fast-RCNN [5], Faster-RCNN [6], SPP-Net [7], and R-FCN [8])** have achieved good results in multiobject detection in images. \n",
        "\n",
        "But most of these object detection algorithms are based on **PASCAL VOC dataset [9] for training and testing.**"
      ]
    },
    {
      "metadata": {
        "id": "FAZl7MV1_NKI",
        "colab_type": "text"
      },
      "cell_type": "markdown",
      "source": [
        "PASCAL VOC dataset, which provides a standard evaluation system for detection algorithms and learning performance, is the most widely used standard dataset in the field of object classification and detection. \n",
        "\n",
        "The dataset consists of 20 catalogues closely related to human life, including **human and anima**l (bird, cat, cattle, dog, horse, and sheep), vehicle (aircraft, bicycle, ship, bus, car, motorcycle, and train), and **indoor** item (bottle, chair, table, potted plants, sofa, and television). "
      ]
    },
    {
      "metadata": {
        "id": "RNAMeBrW_jYZ",
        "colab_type": "text"
      },
      "cell_type": "markdown",
      "source": [
        "From the above object category, we can find that the actual size of most objects in the dataset is large object. \n",
        "\n",
        "Even if there are some small objects, such as bottles, these small objects display very large objects in the image because of the **focal length**. \n",
        "\n",
        "Therefore, the detection model based on the dataset composed of large objects will not be effectively detected for the small objects in reality [10]."
      ]
    },
    {
      "metadata": {
        "id": "HRhRE0fq_vZA",
        "colab_type": "text"
      },
      "cell_type": "markdown",
      "source": [
        "Based on this problem, we mainly study automatic detection of small object. \n",
        "\n",
        "For small object, we define it as two types: **one is a small object in the real world**, such as mouse and telephone. And the other is small objects;** those are large objects in the real world, but they are shown in the image as small objects because of the camera angle and focal length**, such as objects detection in aerial images or in remote sensing images. The small object dataset is shown in Figure "
      ]
    },
    {
      "metadata": {
        "id": "59AuwQXGAWm3",
        "colab_type": "text"
      },
      "cell_type": "markdown",
      "source": [
        "Usually, since small objects have low resolution and are near large objects, small objects are often disturbed by the large objects and it leads to failure in being detected in the automatic detection process.\n",
        "\n",
        "As the mouse in Figure 1 is often placed next to the monitor, the common saliency detection model [11, 12] usually focuses on more significant monitor and ignores the mouse. \n",
        "\n",
        "In addition, we not only find the detected objects in the image but also need to accurately mark object location for object detection. Because the big detected objects have many pixels in the image, they can accurately locate their location. \n",
        "\n",
        "But, it is just the opposite for the small objects that **have low resolution and few pixels.** Even more, because the small objects have fewer pixels and the finite pixels contain few object features, it is difficult to detect the small objects by the conventional detection model. \n",
        "\n",
        "**In addition, there are few studies, references, and also no standard dataset on automatic detection of small objects.**"
      ]
    },
    {
      "metadata": {
        "id": "ccEh35ZpAslv",
        "colab_type": "text"
      },
      "cell_type": "markdown",
      "source": [
        "In order to solve these problems, we propose **a multiscale deep convolution detection network** to detect small objects. \n",
        "\n",
        "**The network is based on the Faster-RCNN detection model.** We firstly combine the features of **the 3th, 4th, and 5th convolution layers for the small objects to a multiscale feature vector. Then, we use the vector to detect the small objects and locate the bounding box of objects**. In order to train small objects, the paper also uses the method [13] to build a dataset focusing on small objects. Finally, by comparing the proposed detection model with the state-of-the-art detection model, we find that the accuracy of our method is much better than that of Faster-RCNN."
      ]
    },
    {
      "metadata": {
        "id": "ma_n3Qw8EoyT",
        "colab_type": "text"
      },
      "cell_type": "markdown",
      "source": [
        "## Other comments\n"
      ]
    },
    {
      "metadata": {
        "id": "WhXM3Dx4EtJz",
        "colab_type": "text"
      },
      "cell_type": "markdown",
      "source": [
        "Currently detecting small objects is a very challenging problem especially for convolutional neural networks (CNN) utilizing pooling layers.\n",
        "\n",
        "A typical CNN has alternating layers of convolutions and pooling **which progressively results in smaller resolution feature maps high up the processing pipeline.**"
      ]
    },
    {
      "metadata": {
        "id": "IQ5OVMcrE4LM",
        "colab_type": "text"
      },
      "cell_type": "markdown",
      "source": [
        "That can be bad for detection of fine grained spatial information because, **at each pooling layer, spatial information is lost.**\n",
        "\n",
        "One way of dealing with the problem of detection of small object is to:"
      ]
    },
    {
      "metadata": {
        "id": "Bqri_sSHE8-M",
        "colab_type": "text"
      },
      "cell_type": "markdown",
      "source": [
        "* Up scale the source images, make them bigger and use the pyramid approach to process images at multiple scales. The problem is that a scaled up image will take longer to process but may result in detection of small objects better. For example **you can run the YOLO (you only look once) approach at multiple scaled versions of the same image**. Start with a source image at 2x the original size and progressively reduce the size by a factor of 2 while feeding each scaled image to the YOLO system. The 2x image will enable the YOLO system detect smaller objects at the expense of increased computational load. You can do the same with the other object detection models"
      ]
    },
    {
      "metadata": {
        "id": "BnSPlfJAFNbc",
        "colab_type": "text"
      },
      "cell_type": "markdown",
      "source": [
        "\n",
        "* **Avoid pooling layers and use dilated convolution instead**. Dilated convolutional layers can preserve a lot of spatial information but still include a large context. You can even use normal convolution operation but without pooling so that the high-level convolutional features have sufficient spatial information that can aid the detection of smaller objects. This approach requires substantial changes to the architecture, because approaches like YOLO leverage pretrained models like VGG which already have pooling layers, this approach would require training a CNN from scratch."
      ]
    },
    {
      "metadata": {
        "id": "SSOv1VzAFfKH",
        "colab_type": "text"
      },
      "cell_type": "markdown",
      "source": [
        "* Thus up scaling the source images and avoiding pooling can help the detectors localize small objects but this will result in increased complexity of the networks."
      ]
    },
    {
      "metadata": {
        "id": "sFUi2oCmErYy",
        "colab_type": "code",
        "colab": {}
      },
      "cell_type": "code",
      "source": [
        ""
      ],
      "execution_count": 0,
      "outputs": []
    }
  ]
}