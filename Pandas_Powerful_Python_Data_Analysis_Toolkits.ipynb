{
  "nbformat": 4,
  "nbformat_minor": 0,
  "metadata": {
    "colab": {
      "name": "Pandas-Powerful Python Data Analysis Toolkits",
      "version": "0.3.2",
      "provenance": [],
      "collapsed_sections": [],
      "include_colab_link": true
    },
    "kernelspec": {
      "name": "python3",
      "display_name": "Python 3"
    }
  },
  "cells": [
    {
      "cell_type": "markdown",
      "metadata": {
        "id": "view-in-github",
        "colab_type": "text"
      },
      "source": [
        "<a href=\"https://colab.research.google.com/github/weiyunna/PythonDataScience/blob/master/Pandas_Powerful_Python_Data_Analysis_Toolkits.ipynb\" target=\"_parent\"><img src=\"https://colab.research.google.com/assets/colab-badge.svg\" alt=\"Open In Colab\"/></a>"
      ]
    },
    {
      "metadata": {
        "id": "GmH81jMm71c7",
        "colab_type": "text"
      },
      "cell_type": "markdown",
      "source": [
        "# Pandas-Powerful Python Data Analysis Toolkits"
      ]
    },
    {
      "metadata": {
        "id": "qiStzbYv8Q_J",
        "colab_type": "text"
      },
      "cell_type": "markdown",
      "source": [
        "* pandas is a Python package providing fast, flexible, and expressive data structures designed to make working with “relational” or “labeled” data both easy and intuitive. \n",
        "\n",
        "* It aims to be the fundamental high-level building block for doing practical, real world data analysis in Python. \n",
        "\n",
        "* Additionally, it has the broader goal of becoming the most powerful and flexible open source data analysis / manipulation tool available in any language. It is already well on its way toward this goal."
      ]
    },
    {
      "metadata": {
        "id": "QpsWHWHL8rkD",
        "colab_type": "text"
      },
      "cell_type": "markdown",
      "source": [
        "pandas is well suited for many different kinds of data:\n",
        "\n",
        "* Tabular data with heterogeneously-typed columns, as in **an SQL table or Excel spreadsheet**\n",
        "* Ordered and unordered (not necessarily fixed-frequency) **time series data.**\n",
        "* Arbitrary matrix data (homogeneously typed or heterogeneous) with **row and column labels**\n",
        "* Any other form of observational / statistical data sets. The data actually need not be labeled at all to be placed into a pandas data structure"
      ]
    },
    {
      "metadata": {
        "id": "Fy1WSiBC9KBD",
        "colab_type": "text"
      },
      "cell_type": "markdown",
      "source": [
        "The two primary data structures of pandas, \n",
        "* Series (1-dimensional) and \n",
        "* DataFrame (2-dimensional), \n",
        "\n",
        "handle the vast majority of typical use cases in finance, statistics, social science, and many areas of engineering.\n",
        "\n",
        "For R users, DataFrame provides everything that** R’s data.frame** provides and much more. pandas is built on top of **NumPy** and is intended to integrate well within** a scientific computing environment** with many other 3rd party libraries."
      ]
    },
    {
      "metadata": {
        "id": "W-U8jiWZ-FwY",
        "colab_type": "text"
      },
      "cell_type": "markdown",
      "source": [
        "Here are just a few of the things that pandas does well:\n",
        "\n",
        "* Easy handling of** missing data **(represented as NaN) in floating point as well as non-floating point data\n",
        "* Size mutability: columns can be **inserted and deleted** from DataFrame and higher dimensional objects\n",
        "* Automatic and explicit **data alignment**: objects can be explicitly aligned to a set of labels, or the user can simply ignore the labels and let Series, DataFrame, etc. automatically align the data for you in computations\n",
        "* Powerful, flexible **group by **functionality to perform `split-apply-combine` operations on data sets, for both `aggregating` and `transforming` data\n",
        "* Make it **easy to convert** ragged, differently-indexed data in other Python and NumPy data structures into DataFrame objects\n",
        "* Intelligent label-based **slicing, fancy indexing, and subsetting** of large data sets\n",
        "* Intuitive **merging and joining **data sets\n",
        "* Flexible **reshaping and pivoting** of data sets\n",
        "* **Hierarchical** labeling of axes (possible to have multiple labels per tick)\n",
        "* Robust IO tools for loading data from **flat files** (CSV and delimited), Excel files, databases, and saving / loading data from the ultrafast **HDF5** format\n",
        "* **Time series**-specific functionality: date range generation and frequency conversion, moving window statistics, moving window linear regressions, date shifting and lagging, etc."
      ]
    },
    {
      "metadata": {
        "id": "WS_1udvC_ten",
        "colab_type": "text"
      },
      "cell_type": "markdown",
      "source": [
        "Many of these principles are here to address the shortcomings frequently experienced using other languages / scientific research environments. \n",
        "\n",
        "For data scientists, working with data is typically divided into multiple stages: **munging and cleaning data**, **analyzing / modeling it**, then **organizing the results of the analysis into a form suitable for plotting or tabular display**. \n",
        "\n",
        "pandas is the ideal tool for all of these tasks."
      ]
    },
    {
      "metadata": {
        "id": "rnOHEHlVANH5",
        "colab_type": "text"
      },
      "cell_type": "markdown",
      "source": [
        "Some other notes\n",
        "\n",
        "* pandas is **fast**. Many of the low-level algorithmic bits have been extensively tweaked in Cython code. However, as with anything else generalization usually sacrifices performance. So if you focus on one feature for your application you may be able to create a faster specialized tool.\n",
        "* pandas is a dependency of **statsmodels**, making it an important part of the statistical computing ecosystem in Python.\n",
        "* pandas has been used extensively in production in financial applications."
      ]
    },
    {
      "metadata": {
        "id": "jL-E10goBW4W",
        "colab_type": "text"
      },
      "cell_type": "markdown",
      "source": [
        "## Why More Than One Data Structure"
      ]
    },
    {
      "metadata": {
        "id": "b0FNgutNBcvC",
        "colab_type": "text"
      },
      "cell_type": "markdown",
      "source": [
        "The best way to think about the pandas data structures is as **flexible containers** for lower dimensional data. \n",
        "\n",
        "For example, DataFrame is a container for Series, and Series is a container for scalars. We would like to be able to insert and remove objects from these containers in **a dictionary-like** fashion.\n",
        "\n",
        "Also, we would like sensible default behaviors for the common API functions which take into account the typical orientation of time series and cross-sectional data sets. \n",
        "\n",
        "When using ndarrays to store 2- and 3-dimensional data, a burden is placed on the user to consider the orientation of the data set when writing functions; axes are considered more or less equivalent (except when C- or Fortran-contiguousness matters for performance). \n",
        "\n",
        "In pandas, the axes are intended to lend more semantic meaning to the data; i.e., for a particular data set there is likely to be a “right” way to orient the data. **The goal, then, is to reduce the amount of mental effort required to code up data transformations in downstream functions.**\n",
        "\n",
        "For example, with tabular data (DataFrame) it is more semantically helpful to think of the **index** (the rows) and the **columns** rather than axis 0 and axis 1. Iterating through the columns of the DataFrame thus results in more readable code:"
      ]
    },
    {
      "metadata": {
        "id": "LNV61o-KDQGl",
        "colab_type": "text"
      },
      "cell_type": "markdown",
      "source": [
        "## Mutability and copying of data"
      ]
    },
    {
      "metadata": {
        "id": "Xnt5C2YHDV23",
        "colab_type": "text"
      },
      "cell_type": "markdown",
      "source": [
        "All pandas data structures are value-mutable (the values they contain can be altered) but not always size-mutable. The length of a Series cannot be changed, but, for example, columns can be inserted into a DataFrame. However, the vast majority of methods produce new objects and leave the input data untouched. In general we like to **favor immutability** where sensible."
      ]
    },
    {
      "metadata": {
        "id": "88HpOxjm73uk",
        "colab_type": "code",
        "colab": {}
      },
      "cell_type": "code",
      "source": [
        ""
      ],
      "execution_count": 0,
      "outputs": []
    }
  ]
}